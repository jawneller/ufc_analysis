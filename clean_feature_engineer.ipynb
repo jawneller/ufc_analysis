{
 "cells": [
  {
   "cell_type": "code",
   "execution_count": 1,
   "metadata": {},
   "outputs": [],
   "source": [
    "import pandas as pd\n",
    "import numpy as np\n",
    "import math"
   ]
  },
  {
   "cell_type": "markdown",
   "metadata": {},
   "source": [
    "# Introduction\n"
   ]
  },
  {
   "cell_type": "markdown",
   "metadata": {},
   "source": [
    "# Dataset Description\n",
    "\n",
    "@TODO describe datasets\n",
    "\n",
    "The five datasets downloaded include:\n",
    "* ufc_event_details.csv\n",
    "* ufc_fight_details.csv\n",
    "* ufc_fight_results.csv\n",
    "* ufc_fight_stats.csv\n",
    "* ufc_fighter_details.csv\n",
    "* ufc_fighter_tott.csv"
   ]
  },
  {
   "cell_type": "code",
   "execution_count": 2,
   "metadata": {},
   "outputs": [],
   "source": [
    "# Event details: For Date mapping\n",
    "df_event_details = pd.read_csv(\n",
    "    'processed data/ufc_event_details.csv',\n",
    "    na_values=\"--\"\n",
    ")\n",
    "# df_event_details['DATE'] = pd.to_datetime(df_event_details['DATE'], format=\"%B %d, %Y\")\n",
    "\n",
    "# Fight results: For Outcome and Bout-Weightclass mapping\n",
    "df_fight_results = pd.read_csv(\n",
    "    'processed data/ufc_fight_results.csv',\n",
    "    na_values=\"--\"\n",
    ")\n",
    "\n",
    "# Fight stats: stats per round and fighter for each bout\n",
    "df_fight_stats = pd.read_csv(\n",
    "    'processed data/ufc_fight_stats.csv',\n",
    "    na_values=\"--\"\n",
    ")\n",
    "\n",
    "# Fighter stats: Basic fighter stats like height, weight, stance, DOB\n",
    "df_fighter = pd.read_csv(\n",
    "    'processed data/ufc_fighter.csv',\n",
    "    na_values=\"--\"\n",
    ")\n"
   ]
  },
  {
   "cell_type": "markdown",
   "metadata": {},
   "source": [
    "# Clean"
   ]
  },
  {
   "cell_type": "markdown",
   "metadata": {},
   "source": [
    "## `df_fight_results`\n",
    "We need to split the `BOUT` column containing the string listing the two fighters into two columns. The order is important here. The first fighter is the Bout's headliner and most likely the higher ranked fighter. This is the red corner, leaving the second mentioned fighter to Blue. Our match prediction will subsequently be probability of a Red victory.\n",
    "\n",
    "Also we need to create a \"winner\" column. Both of these must come from the fight results table, because the ordering of the names can be different between the the fight details and fight results tables. Since the winners are specified by order of \"W/L\" or \"L/W\", the name ordering matters."
   ]
  },
  {
   "cell_type": "markdown",
   "metadata": {},
   "source": [
    "Start by looking at the value counts of the `OUTCOME` column in the fight results df. We see that 64% of the time the red fighter wins, 34% the blue, 1% no contest, and 0.7% was a draw"
   ]
  },
  {
   "cell_type": "code",
   "execution_count": 3,
   "metadata": {},
   "outputs": [
    {
     "data": {
      "text/plain": [
       "OUTCOME\n",
       "W/L      0.638124\n",
       "L/W      0.344292\n",
       "NC/NC    0.010194\n",
       "D/D      0.007390\n",
       "Name: proportion, dtype: float64"
      ]
     },
     "execution_count": 3,
     "metadata": {},
     "output_type": "execute_result"
    }
   ],
   "source": [
    "df_fight_results['OUTCOME'].value_counts(normalize=True)"
   ]
  },
  {
   "cell_type": "markdown",
   "metadata": {},
   "source": [
    "Now we'll create a function that generates our dependent variable, i.e., a boolean flag indicating a red victory. The function maps 'W/L' to 1 (Red win), 'L/W' to 0 (Red loss), and anything else to nan (neither a victory or loss)"
   ]
  },
  {
   "cell_type": "code",
   "execution_count": 4,
   "metadata": {},
   "outputs": [
    {
     "data": {
      "text/plain": [
       "Red_Victory\n",
       "1.0    0.638124\n",
       "0.0    0.344292\n",
       "NaN    0.017584\n",
       "Name: proportion, dtype: float64"
      ]
     },
     "execution_count": 4,
     "metadata": {},
     "output_type": "execute_result"
    }
   ],
   "source": [
    "def did_red_win(outcome: str) -> bool:\n",
    "    match outcome:\n",
    "        case \"W/L\":\n",
    "            result = 1 # Red won\n",
    "        case \"L/W\":\n",
    "            result = 0 # Red lost\n",
    "        case _:\n",
    "            result = np.nan # Other scenario, like no contest or draw\n",
    "    return result\n",
    "\n",
    "df_fight_results['Red_Victory'] = df_fight_results['OUTCOME'].apply(did_red_win)\n",
    "\n",
    "# Confirm the value counts of red victory matches the outcome column (64% red victory, 34% blue, and 1.7% neither)\n",
    "df_fight_results['Red_Victory'].value_counts(normalize=True, dropna=False)"
   ]
  },
  {
   "cell_type": "markdown",
   "metadata": {},
   "source": [
    "## `df_fighter_tott`"
   ]
  },
  {
   "cell_type": "markdown",
   "metadata": {},
   "source": [
    "### Convert fighter height to inches\n",
    "Input data contains height in string form as `{feet}' {inches}\"`, e.g., `5' 6\"` for five feet 6 inches, or 66 inches. Convert to a numeric column (in inches)."
   ]
  },
  {
   "cell_type": "code",
   "execution_count": 5,
   "metadata": {},
   "outputs": [
    {
     "data": {
      "text/plain": [
       "HEIGHT\n",
       "True    3955\n",
       "Name: count, dtype: int64"
      ]
     },
     "execution_count": 5,
     "metadata": {},
     "output_type": "execute_result"
    }
   ],
   "source": [
    "# Confirm all columns have this format:\n",
    "re_pattern = r\"\\d' \\d+\\\"\" # e.g., 5' 10\" or 6' 2\"\n",
    "\n",
    "# Will return all `True` if every non-null value follows this pattern.\n",
    "df_fighter['HEIGHT'].dropna().str.contains(re_pattern, regex=True).value_counts()"
   ]
  },
  {
   "cell_type": "markdown",
   "metadata": {},
   "source": [
    "Having confirmed the string format, we can create the logic to convert"
   ]
  },
  {
   "cell_type": "code",
   "execution_count": 6,
   "metadata": {},
   "outputs": [],
   "source": [
    "# Convert fighter height text field to numeric field in inches\n",
    "def get_inches(feet_and_inches: str) -> float:\n",
    "    \"\"\"Convert strings of heights (e.g., 5' 6\") to number of inches\"\"\"\n",
    "\n",
    "    if type(feet_and_inches) == str:\n",
    "\n",
    "        ft_inches_list = feet_and_inches.strip('\"').split(\"' \")\n",
    "\n",
    "        inches = int(ft_inches_list[0]) * 12 + int(ft_inches_list[1])\n",
    "\n",
    "        result = inches\n",
    "\n",
    "    else: # For nan inputs, return nan\n",
    "        result = np.nan\n",
    "\n",
    "    return result\n",
    "\n",
    "df_fighter['HEIGHT_in'] = df_fighter['HEIGHT'].apply(get_inches)"
   ]
  },
  {
   "cell_type": "markdown",
   "metadata": {},
   "source": [
    "### Convert fighter weights\n",
    "Convert weight string to float, noting that all weights are expressed as \"{weight} lbs.\""
   ]
  },
  {
   "cell_type": "code",
   "execution_count": 7,
   "metadata": {},
   "outputs": [
    {
     "data": {
      "text/plain": [
       "WEIGHT\n",
       "True    4174\n",
       "Name: count, dtype: int64"
      ]
     },
     "execution_count": 7,
     "metadata": {},
     "output_type": "execute_result"
    }
   ],
   "source": [
    "# Confirm the pattern\n",
    "df_fighter['WEIGHT'].str.contains(' lbs.').value_counts()"
   ]
  },
  {
   "cell_type": "code",
   "execution_count": 8,
   "metadata": {},
   "outputs": [],
   "source": [
    "df_fighter['WEIGHT_lbs'] = df_fighter['WEIGHT'].str.strip(' lbs.').astype(float)"
   ]
  },
  {
   "cell_type": "markdown",
   "metadata": {},
   "source": [
    "### Convert fighter reach\n",
    "Simpler than height, as the format is just a two-digit number with the inches symbol (\") at the end."
   ]
  },
  {
   "cell_type": "code",
   "execution_count": 9,
   "metadata": {},
   "outputs": [
    {
     "data": {
      "text/plain": [
       "REACH\n",
       "True    2331\n",
       "Name: count, dtype: int64"
      ]
     },
     "execution_count": 9,
     "metadata": {},
     "output_type": "execute_result"
    }
   ],
   "source": [
    "# Confirm the pattern. Should be only `True`s\n",
    "df_fighter['REACH'].dropna().str.contains('\"').value_counts()"
   ]
  },
  {
   "cell_type": "code",
   "execution_count": 10,
   "metadata": {},
   "outputs": [],
   "source": [
    "# Convert to number\n",
    "df_fighter['REACH_in'] = df_fighter['REACH'].str.strip('\"').astype(float)"
   ]
  },
  {
   "cell_type": "markdown",
   "metadata": {},
   "source": [
    "View sample to confirm transformations"
   ]
  },
  {
   "cell_type": "code",
   "execution_count": 11,
   "metadata": {},
   "outputs": [
    {
     "data": {
      "text/html": [
       "<div>\n",
       "<style scoped>\n",
       "    .dataframe tbody tr th:only-of-type {\n",
       "        vertical-align: middle;\n",
       "    }\n",
       "\n",
       "    .dataframe tbody tr th {\n",
       "        vertical-align: top;\n",
       "    }\n",
       "\n",
       "    .dataframe thead th {\n",
       "        text-align: right;\n",
       "    }\n",
       "</style>\n",
       "<table border=\"1\" class=\"dataframe\">\n",
       "  <thead>\n",
       "    <tr style=\"text-align: right;\">\n",
       "      <th></th>\n",
       "      <th>FIRST</th>\n",
       "      <th>LAST</th>\n",
       "      <th>NICKNAME</th>\n",
       "      <th>URL</th>\n",
       "      <th>FIGHTER</th>\n",
       "      <th>HEIGHT</th>\n",
       "      <th>WEIGHT</th>\n",
       "      <th>REACH</th>\n",
       "      <th>STANCE</th>\n",
       "      <th>DOB</th>\n",
       "      <th>HEIGHT_in</th>\n",
       "      <th>WEIGHT_lbs</th>\n",
       "      <th>REACH_in</th>\n",
       "    </tr>\n",
       "  </thead>\n",
       "  <tbody>\n",
       "    <tr>\n",
       "      <th>834</th>\n",
       "      <td>Justin</td>\n",
       "      <td>Sumter</td>\n",
       "      <td>NaN</td>\n",
       "      <td>http://ufcstats.com/fighter-details/31f9a1f56c...</td>\n",
       "      <td>Justin Sumter</td>\n",
       "      <td>6' 2\"</td>\n",
       "      <td>185 lbs.</td>\n",
       "      <td>80\"</td>\n",
       "      <td>Southpaw</td>\n",
       "      <td>1989-11-16</td>\n",
       "      <td>74.0</td>\n",
       "      <td>185.0</td>\n",
       "      <td>80.0</td>\n",
       "    </tr>\n",
       "    <tr>\n",
       "      <th>1943</th>\n",
       "      <td>Miranda</td>\n",
       "      <td>Granger</td>\n",
       "      <td>Danger</td>\n",
       "      <td>http://ufcstats.com/fighter-details/7559395ad8...</td>\n",
       "      <td>Miranda Granger</td>\n",
       "      <td>5' 7\"</td>\n",
       "      <td>115 lbs.</td>\n",
       "      <td>68\"</td>\n",
       "      <td>Orthodox</td>\n",
       "      <td>1992-04-13</td>\n",
       "      <td>67.0</td>\n",
       "      <td>115.0</td>\n",
       "      <td>68.0</td>\n",
       "    </tr>\n",
       "    <tr>\n",
       "      <th>1498</th>\n",
       "      <td>Max</td>\n",
       "      <td>Rohskopf</td>\n",
       "      <td>Rated R</td>\n",
       "      <td>http://ufcstats.com/fighter-details/59a27d2e6d...</td>\n",
       "      <td>Max Rohskopf</td>\n",
       "      <td>6' 1\"</td>\n",
       "      <td>155 lbs.</td>\n",
       "      <td>71\"</td>\n",
       "      <td>Orthodox</td>\n",
       "      <td>1994-09-27</td>\n",
       "      <td>73.0</td>\n",
       "      <td>155.0</td>\n",
       "      <td>71.0</td>\n",
       "    </tr>\n",
       "  </tbody>\n",
       "</table>\n",
       "</div>"
      ],
      "text/plain": [
       "        FIRST      LAST NICKNAME  \\\n",
       "834    Justin    Sumter      NaN   \n",
       "1943  Miranda   Granger   Danger   \n",
       "1498      Max  Rohskopf  Rated R   \n",
       "\n",
       "                                                    URL          FIGHTER  \\\n",
       "834   http://ufcstats.com/fighter-details/31f9a1f56c...    Justin Sumter   \n",
       "1943  http://ufcstats.com/fighter-details/7559395ad8...  Miranda Granger   \n",
       "1498  http://ufcstats.com/fighter-details/59a27d2e6d...     Max Rohskopf   \n",
       "\n",
       "     HEIGHT    WEIGHT REACH    STANCE         DOB  HEIGHT_in  WEIGHT_lbs  \\\n",
       "834   6' 2\"  185 lbs.   80\"  Southpaw  1989-11-16       74.0       185.0   \n",
       "1943  5' 7\"  115 lbs.   68\"  Orthodox  1992-04-13       67.0       115.0   \n",
       "1498  6' 1\"  155 lbs.   71\"  Orthodox  1994-09-27       73.0       155.0   \n",
       "\n",
       "      REACH_in  \n",
       "834       80.0  \n",
       "1943      68.0  \n",
       "1498      71.0  "
      ]
     },
     "execution_count": 11,
     "metadata": {},
     "output_type": "execute_result"
    }
   ],
   "source": [
    "df_fighter.sample(3)"
   ]
  },
  {
   "cell_type": "markdown",
   "metadata": {},
   "source": [
    "# JOINS"
   ]
  },
  {
   "cell_type": "markdown",
   "metadata": {},
   "source": []
  },
  {
   "cell_type": "markdown",
   "metadata": {},
   "source": [
    "## Create `df_fight_all` - Append Event info to Fight Results\n",
    "This is only because we will want the event date to use for feature calculation later, and this only lives in the event details table"
   ]
  },
  {
   "cell_type": "code",
   "execution_count": 26,
   "metadata": {},
   "outputs": [
    {
     "name": "stdout",
     "output_type": "stream",
     "text": [
      "_merge\n",
      "both          1.0\n",
      "left_only     0.0\n",
      "right_only    0.0\n",
      "Name: proportion, dtype: float64\n"
     ]
    }
   ],
   "source": [
    "from pprint import pprint\n",
    "# The fight details and fight results tables have some inconsistencies in their spellings.\n",
    "# However the `URL` field is unique and spelled the same for each. Will use this as a join key.\n",
    "\n",
    "df_fight_all = pd.merge(\n",
    "    df_fight_results,\n",
    "    df_event_details,\n",
    "    on='EVENT',\n",
    "    how='left',\n",
    "    suffixes=['_fight', '_event'],\n",
    "    indicator=True\n",
    ")\n",
    "\n",
    "# Confirm join quality - for all rows the left-hand `EVENT` was matched by the right\n",
    "print(df_fight_all['_merge'].value_counts(normalize=True))\n",
    "\n",
    "# Drop indicator column\n",
    "df_fight_all.drop(columns=['_merge'], inplace=True)"
   ]
  },
  {
   "cell_type": "markdown",
   "metadata": {},
   "source": [
    "## Create `df` - Append fighter details per red and blue to fight data"
   ]
  },
  {
   "cell_type": "code",
   "execution_count": null,
   "metadata": {},
   "outputs": [
    {
     "ename": "KeyError",
     "evalue": "'FIGHTER_Red'",
     "output_type": "error",
     "traceback": [
      "\u001b[0;31m---------------------------------------------------------------------------\u001b[0m",
      "\u001b[0;31mKeyError\u001b[0m                                  Traceback (most recent call last)",
      "\u001b[0;32m/var/folders/85/tj3jhg0s52j7h980d68xmhmh0000gn/T/ipykernel_56675/1398474700.py\u001b[0m in \u001b[0;36m?\u001b[0;34m()\u001b[0m\n\u001b[1;32m      1\u001b[0m \u001b[0;31m# Create a dataframe containing the red and blue fighter tott values for each match\u001b[0m\u001b[0;34m\u001b[0m\u001b[0;34m\u001b[0m\u001b[0m\n\u001b[1;32m      2\u001b[0m \u001b[0;34m\u001b[0m\u001b[0m\n\u001b[1;32m      3\u001b[0m \u001b[0;31m# Append fighter details for Red\u001b[0m\u001b[0;34m\u001b[0m\u001b[0;34m\u001b[0m\u001b[0m\n\u001b[0;32m----> 4\u001b[0;31m df = pd.merge(\n\u001b[0m\u001b[1;32m      5\u001b[0m     \u001b[0mdf_fight_all\u001b[0m\u001b[0;34m,\u001b[0m\u001b[0;34m\u001b[0m\u001b[0;34m\u001b[0m\u001b[0m\n\u001b[1;32m      6\u001b[0m     \u001b[0mdf_fighter\u001b[0m\u001b[0;34m.\u001b[0m\u001b[0mdrop\u001b[0m\u001b[0;34m(\u001b[0m\u001b[0mcolumns\u001b[0m\u001b[0;34m=\u001b[0m\u001b[0;34m[\u001b[0m\u001b[0;34m'HEIGHT'\u001b[0m\u001b[0;34m,\u001b[0m \u001b[0;34m'WEIGHT'\u001b[0m\u001b[0;34m,\u001b[0m \u001b[0;34m'REACH'\u001b[0m\u001b[0;34m,\u001b[0m \u001b[0;34m'URL'\u001b[0m\u001b[0;34m]\u001b[0m\u001b[0;34m)\u001b[0m\u001b[0;34m,\u001b[0m \u001b[0;31m# Drop the pre-converted cols\u001b[0m\u001b[0;34m\u001b[0m\u001b[0;34m\u001b[0m\u001b[0m\n\u001b[1;32m      7\u001b[0m     \u001b[0mhow\u001b[0m\u001b[0;34m=\u001b[0m\u001b[0;34m'left'\u001b[0m\u001b[0;34m,\u001b[0m\u001b[0;34m\u001b[0m\u001b[0;34m\u001b[0m\u001b[0m\n",
      "\u001b[0;32m/Library/Frameworks/Python.framework/Versions/3.13/lib/python3.13/site-packages/pandas/core/reshape/merge.py\u001b[0m in \u001b[0;36m?\u001b[0;34m(left, right, how, on, left_on, right_on, left_index, right_index, sort, suffixes, copy, indicator, validate)\u001b[0m\n\u001b[1;32m    166\u001b[0m             \u001b[0mvalidate\u001b[0m\u001b[0;34m=\u001b[0m\u001b[0mvalidate\u001b[0m\u001b[0;34m,\u001b[0m\u001b[0;34m\u001b[0m\u001b[0;34m\u001b[0m\u001b[0m\n\u001b[1;32m    167\u001b[0m             \u001b[0mcopy\u001b[0m\u001b[0;34m=\u001b[0m\u001b[0mcopy\u001b[0m\u001b[0;34m,\u001b[0m\u001b[0;34m\u001b[0m\u001b[0;34m\u001b[0m\u001b[0m\n\u001b[1;32m    168\u001b[0m         \u001b[0;34m)\u001b[0m\u001b[0;34m\u001b[0m\u001b[0;34m\u001b[0m\u001b[0m\n\u001b[1;32m    169\u001b[0m     \u001b[0;32melse\u001b[0m\u001b[0;34m:\u001b[0m\u001b[0;34m\u001b[0m\u001b[0;34m\u001b[0m\u001b[0m\n\u001b[0;32m--> 170\u001b[0;31m         op = _MergeOperation(\n\u001b[0m\u001b[1;32m    171\u001b[0m             \u001b[0mleft_df\u001b[0m\u001b[0;34m,\u001b[0m\u001b[0;34m\u001b[0m\u001b[0;34m\u001b[0m\u001b[0m\n\u001b[1;32m    172\u001b[0m             \u001b[0mright_df\u001b[0m\u001b[0;34m,\u001b[0m\u001b[0;34m\u001b[0m\u001b[0;34m\u001b[0m\u001b[0m\n\u001b[1;32m    173\u001b[0m             \u001b[0mhow\u001b[0m\u001b[0;34m=\u001b[0m\u001b[0mhow\u001b[0m\u001b[0;34m,\u001b[0m\u001b[0;34m\u001b[0m\u001b[0;34m\u001b[0m\u001b[0m\n",
      "\u001b[0;32m/Library/Frameworks/Python.framework/Versions/3.13/lib/python3.13/site-packages/pandas/core/reshape/merge.py\u001b[0m in \u001b[0;36m?\u001b[0;34m(self, left, right, how, on, left_on, right_on, left_index, right_index, sort, suffixes, indicator, validate)\u001b[0m\n\u001b[1;32m    790\u001b[0m             \u001b[0mself\u001b[0m\u001b[0;34m.\u001b[0m\u001b[0mright_join_keys\u001b[0m\u001b[0;34m,\u001b[0m\u001b[0;34m\u001b[0m\u001b[0;34m\u001b[0m\u001b[0m\n\u001b[1;32m    791\u001b[0m             \u001b[0mself\u001b[0m\u001b[0;34m.\u001b[0m\u001b[0mjoin_names\u001b[0m\u001b[0;34m,\u001b[0m\u001b[0;34m\u001b[0m\u001b[0;34m\u001b[0m\u001b[0m\n\u001b[1;32m    792\u001b[0m             \u001b[0mleft_drop\u001b[0m\u001b[0;34m,\u001b[0m\u001b[0;34m\u001b[0m\u001b[0;34m\u001b[0m\u001b[0m\n\u001b[1;32m    793\u001b[0m             \u001b[0mright_drop\u001b[0m\u001b[0;34m,\u001b[0m\u001b[0;34m\u001b[0m\u001b[0;34m\u001b[0m\u001b[0m\n\u001b[0;32m--> 794\u001b[0;31m         \u001b[0;34m)\u001b[0m \u001b[0;34m=\u001b[0m \u001b[0mself\u001b[0m\u001b[0;34m.\u001b[0m\u001b[0m_get_merge_keys\u001b[0m\u001b[0;34m(\u001b[0m\u001b[0;34m)\u001b[0m\u001b[0;34m\u001b[0m\u001b[0;34m\u001b[0m\u001b[0m\n\u001b[0m\u001b[1;32m    795\u001b[0m \u001b[0;34m\u001b[0m\u001b[0m\n\u001b[1;32m    796\u001b[0m         \u001b[0;32mif\u001b[0m \u001b[0mleft_drop\u001b[0m\u001b[0;34m:\u001b[0m\u001b[0;34m\u001b[0m\u001b[0;34m\u001b[0m\u001b[0m\n\u001b[1;32m    797\u001b[0m             \u001b[0mself\u001b[0m\u001b[0;34m.\u001b[0m\u001b[0mleft\u001b[0m \u001b[0;34m=\u001b[0m \u001b[0mself\u001b[0m\u001b[0;34m.\u001b[0m\u001b[0mleft\u001b[0m\u001b[0;34m.\u001b[0m\u001b[0m_drop_labels_or_levels\u001b[0m\u001b[0;34m(\u001b[0m\u001b[0mleft_drop\u001b[0m\u001b[0;34m)\u001b[0m\u001b[0;34m\u001b[0m\u001b[0;34m\u001b[0m\u001b[0m\n",
      "\u001b[0;32m/Library/Frameworks/Python.framework/Versions/3.13/lib/python3.13/site-packages/pandas/core/reshape/merge.py\u001b[0m in \u001b[0;36m?\u001b[0;34m(self)\u001b[0m\n\u001b[1;32m   1293\u001b[0m                         \u001b[0;31m# Then we're either Hashable or a wrong-length arraylike,\u001b[0m\u001b[0;34m\u001b[0m\u001b[0;34m\u001b[0m\u001b[0m\n\u001b[1;32m   1294\u001b[0m                         \u001b[0;31m#  the latter of which will raise\u001b[0m\u001b[0;34m\u001b[0m\u001b[0;34m\u001b[0m\u001b[0m\n\u001b[1;32m   1295\u001b[0m                         \u001b[0mrk\u001b[0m \u001b[0;34m=\u001b[0m \u001b[0mcast\u001b[0m\u001b[0;34m(\u001b[0m\u001b[0mHashable\u001b[0m\u001b[0;34m,\u001b[0m \u001b[0mrk\u001b[0m\u001b[0;34m)\u001b[0m\u001b[0;34m\u001b[0m\u001b[0;34m\u001b[0m\u001b[0m\n\u001b[1;32m   1296\u001b[0m                         \u001b[0;32mif\u001b[0m \u001b[0mrk\u001b[0m \u001b[0;32mis\u001b[0m \u001b[0;32mnot\u001b[0m \u001b[0;32mNone\u001b[0m\u001b[0;34m:\u001b[0m\u001b[0;34m\u001b[0m\u001b[0;34m\u001b[0m\u001b[0m\n\u001b[0;32m-> 1297\u001b[0;31m                             \u001b[0mright_keys\u001b[0m\u001b[0;34m.\u001b[0m\u001b[0mappend\u001b[0m\u001b[0;34m(\u001b[0m\u001b[0mright\u001b[0m\u001b[0;34m.\u001b[0m\u001b[0m_get_label_or_level_values\u001b[0m\u001b[0;34m(\u001b[0m\u001b[0mrk\u001b[0m\u001b[0;34m)\u001b[0m\u001b[0;34m)\u001b[0m\u001b[0;34m\u001b[0m\u001b[0;34m\u001b[0m\u001b[0m\n\u001b[0m\u001b[1;32m   1298\u001b[0m                         \u001b[0;32melse\u001b[0m\u001b[0;34m:\u001b[0m\u001b[0;34m\u001b[0m\u001b[0;34m\u001b[0m\u001b[0m\n\u001b[1;32m   1299\u001b[0m                             \u001b[0;31m# work-around for merge_asof(right_index=True)\u001b[0m\u001b[0;34m\u001b[0m\u001b[0;34m\u001b[0m\u001b[0m\n\u001b[1;32m   1300\u001b[0m                             \u001b[0mright_keys\u001b[0m\u001b[0;34m.\u001b[0m\u001b[0mappend\u001b[0m\u001b[0;34m(\u001b[0m\u001b[0mright\u001b[0m\u001b[0;34m.\u001b[0m\u001b[0mindex\u001b[0m\u001b[0;34m.\u001b[0m\u001b[0m_values\u001b[0m\u001b[0;34m)\u001b[0m\u001b[0;34m\u001b[0m\u001b[0;34m\u001b[0m\u001b[0m\n",
      "\u001b[0;32m/Library/Frameworks/Python.framework/Versions/3.13/lib/python3.13/site-packages/pandas/core/generic.py\u001b[0m in \u001b[0;36m?\u001b[0;34m(self, key, axis)\u001b[0m\n\u001b[1;32m   1907\u001b[0m             \u001b[0mvalues\u001b[0m \u001b[0;34m=\u001b[0m \u001b[0mself\u001b[0m\u001b[0;34m.\u001b[0m\u001b[0mxs\u001b[0m\u001b[0;34m(\u001b[0m\u001b[0mkey\u001b[0m\u001b[0;34m,\u001b[0m \u001b[0maxis\u001b[0m\u001b[0;34m=\u001b[0m\u001b[0mother_axes\u001b[0m\u001b[0;34m[\u001b[0m\u001b[0;36m0\u001b[0m\u001b[0;34m]\u001b[0m\u001b[0;34m)\u001b[0m\u001b[0;34m.\u001b[0m\u001b[0m_values\u001b[0m\u001b[0;34m\u001b[0m\u001b[0;34m\u001b[0m\u001b[0m\n\u001b[1;32m   1908\u001b[0m         \u001b[0;32melif\u001b[0m \u001b[0mself\u001b[0m\u001b[0;34m.\u001b[0m\u001b[0m_is_level_reference\u001b[0m\u001b[0;34m(\u001b[0m\u001b[0mkey\u001b[0m\u001b[0;34m,\u001b[0m \u001b[0maxis\u001b[0m\u001b[0;34m=\u001b[0m\u001b[0maxis\u001b[0m\u001b[0;34m)\u001b[0m\u001b[0;34m:\u001b[0m\u001b[0;34m\u001b[0m\u001b[0;34m\u001b[0m\u001b[0m\n\u001b[1;32m   1909\u001b[0m             \u001b[0mvalues\u001b[0m \u001b[0;34m=\u001b[0m \u001b[0mself\u001b[0m\u001b[0;34m.\u001b[0m\u001b[0maxes\u001b[0m\u001b[0;34m[\u001b[0m\u001b[0maxis\u001b[0m\u001b[0;34m]\u001b[0m\u001b[0;34m.\u001b[0m\u001b[0mget_level_values\u001b[0m\u001b[0;34m(\u001b[0m\u001b[0mkey\u001b[0m\u001b[0;34m)\u001b[0m\u001b[0;34m.\u001b[0m\u001b[0m_values\u001b[0m\u001b[0;34m\u001b[0m\u001b[0;34m\u001b[0m\u001b[0m\n\u001b[1;32m   1910\u001b[0m         \u001b[0;32melse\u001b[0m\u001b[0;34m:\u001b[0m\u001b[0;34m\u001b[0m\u001b[0;34m\u001b[0m\u001b[0m\n\u001b[0;32m-> 1911\u001b[0;31m             \u001b[0;32mraise\u001b[0m \u001b[0mKeyError\u001b[0m\u001b[0;34m(\u001b[0m\u001b[0mkey\u001b[0m\u001b[0;34m)\u001b[0m\u001b[0;34m\u001b[0m\u001b[0;34m\u001b[0m\u001b[0m\n\u001b[0m\u001b[1;32m   1912\u001b[0m \u001b[0;34m\u001b[0m\u001b[0m\n\u001b[1;32m   1913\u001b[0m         \u001b[0;31m# Check for duplicates\u001b[0m\u001b[0;34m\u001b[0m\u001b[0;34m\u001b[0m\u001b[0m\n\u001b[1;32m   1914\u001b[0m         \u001b[0;32mif\u001b[0m \u001b[0mvalues\u001b[0m\u001b[0;34m.\u001b[0m\u001b[0mndim\u001b[0m \u001b[0;34m>\u001b[0m \u001b[0;36m1\u001b[0m\u001b[0;34m:\u001b[0m\u001b[0;34m\u001b[0m\u001b[0;34m\u001b[0m\u001b[0m\n",
      "\u001b[0;31mKeyError\u001b[0m: 'FIGHTER_Red'"
     ]
    }
   ],
   "source": [
    "# Create a dataframe containing the red and blue fighter tott values for each match\n",
    "\n",
    "# Append fighter details for Red\n",
    "df = pd.merge(\n",
    "    df_fight_all,\n",
    "    df_fighter.drop(columns=['HEIGHT', 'WEIGHT', 'REACH', 'URL']), # Drop the pre-converted cols\n",
    "    how='left',\n",
    "    left_on='FIGHTER_Red',\n",
    "    right_on='FIGHTER'\n",
    ")\n",
    "\n",
    "# Append fighter details for Blue\n",
    "# df = pd.merge(\n",
    "#     df,\n",
    "#     df_fighter.drop(columns=['HEIGHT', 'WEIGHT', 'REACH', 'URL']),\n",
    "#     how='left',\n",
    "#     left_on='FIGHTER_Blue',\n",
    "#     right_on='FIGHTER',\n",
    "#     suffixes=('_Red', '_Blue')\n",
    "# ).drop(columns=['Red', 'Blue'])\n"
   ]
  },
  {
   "cell_type": "markdown",
   "metadata": {},
   "source": [
    "## Missing Fighter Data"
   ]
  },
  {
   "cell_type": "code",
   "execution_count": 17,
   "metadata": {},
   "outputs": [
    {
     "data": {
      "text/plain": [
       "FIGHTER_Red  FIGHTER_Blue\n",
       "False        False           0.985313\n",
       "             True            0.006711\n",
       "True         False           0.006204\n",
       "             True            0.001773\n",
       "Name: proportion, dtype: float64"
      ]
     },
     "execution_count": 17,
     "metadata": {},
     "output_type": "execute_result"
    }
   ],
   "source": [
    "# Missing figher names on join\n",
    "# In a few cases, there was not a match between fighters. About 98.5% of all fights had both\n",
    "# fighters matched against the fighters table.\n",
    "\n",
    "df[['FIGHTER_Red', 'FIGHTER_Blue']].isna().value_counts(normalize=True)"
   ]
  },
  {
   "cell_type": "markdown",
   "metadata": {},
   "source": [
    "Missing Data will be further explored in the EDA notebook."
   ]
  },
  {
   "cell_type": "markdown",
   "metadata": {},
   "source": [
    "# Feature Engineering\n",
    "In addition to knowing the basic details about fighters, we also want to know how they compare to each other, and how they compare to others in their own weight division\n",
    "* Age at time of fight\n",
    "* Differentials (Red vs Blue) for attributes like height, reach, weight, age\n",
    "* Number of prior fights\n",
    "* Number of prior victories\n"
   ]
  },
  {
   "cell_type": "markdown",
   "metadata": {},
   "source": [
    "## Age at time of fight\n",
    "We have DOB for both corners and the date of the fight, so we can calculate both ages"
   ]
  },
  {
   "cell_type": "code",
   "execution_count": 18,
   "metadata": {},
   "outputs": [],
   "source": [
    "df['Age_yrs_Red'] = (df['EVENT_DATE'] - df['DOB_Red']).dt.days / 365.24\n",
    "df['Age_yrs_Blue'] = (df['EVENT_DATE'] - df['DOB_Blue']).dt.days / 365.24"
   ]
  },
  {
   "cell_type": "markdown",
   "metadata": {},
   "source": [
    "## Attribute differentials\n",
    "The disparity in the Red and Blue fighters with respect to the attributes we have could indicate an advantage of one fighter over the other. We'll define all of these by appending a `_diff` to the column names following the exising attribute columns"
   ]
  },
  {
   "cell_type": "code",
   "execution_count": 19,
   "metadata": {},
   "outputs": [],
   "source": [
    "## Attribute Differentials\n",
    "df['WEIGHT_lbs_diff'] = df['WEIGHT_lbs_Red'] - df['WEIGHT_lbs_Blue']\n",
    "df['HEIGHT_in_diff'] = df['HEIGHT_in_Red'] - df['HEIGHT_in_Blue']\n",
    "df['REACH_in_diff'] = df['REACH_in_Red'] - df['REACH_in_Blue']\n",
    "df['Age_diff'] = (df['DOB_Red'] - df['DOB_Blue']).dt.days / 365.24"
   ]
  },
  {
   "cell_type": "markdown",
   "metadata": {},
   "source": [
    "## Stance Differentials\n",
    "What does it mean when a lefty takes on a rightie? Will this have an effect?"
   ]
  },
  {
   "cell_type": "code",
   "execution_count": 20,
   "metadata": {},
   "outputs": [
    {
     "data": {
      "text/plain": [
       "STANCE\n",
       "Orthodox       2274\n",
       "Southpaw        510\n",
       "Switch          148\n",
       "Open Stance       7\n",
       "Sideways          3\n",
       "Name: count, dtype: int64"
      ]
     },
     "execution_count": 20,
     "metadata": {},
     "output_type": "execute_result"
    }
   ],
   "source": [
    "df_fighter_tott['STANCE'].value_counts()"
   ]
  },
  {
   "cell_type": "code",
   "execution_count": 21,
   "metadata": {},
   "outputs": [
    {
     "data": {
      "text/html": [
       "<div>\n",
       "<style scoped>\n",
       "    .dataframe tbody tr th:only-of-type {\n",
       "        vertical-align: middle;\n",
       "    }\n",
       "\n",
       "    .dataframe tbody tr th {\n",
       "        vertical-align: top;\n",
       "    }\n",
       "\n",
       "    .dataframe thead th {\n",
       "        text-align: right;\n",
       "    }\n",
       "</style>\n",
       "<table border=\"1\" class=\"dataframe\">\n",
       "  <thead>\n",
       "    <tr style=\"text-align: right;\">\n",
       "      <th></th>\n",
       "      <th>STANCE_Red</th>\n",
       "      <th>STANCE_Blue</th>\n",
       "      <th>STANCE_diff</th>\n",
       "    </tr>\n",
       "  </thead>\n",
       "  <tbody>\n",
       "    <tr>\n",
       "      <th>5953</th>\n",
       "      <td>Orthodox</td>\n",
       "      <td>Orthodox</td>\n",
       "      <td>Orthodox_Orthodox</td>\n",
       "    </tr>\n",
       "    <tr>\n",
       "      <th>7227</th>\n",
       "      <td>Southpaw</td>\n",
       "      <td>Orthodox</td>\n",
       "      <td>Southpaw_Orthodox</td>\n",
       "    </tr>\n",
       "    <tr>\n",
       "      <th>5959</th>\n",
       "      <td>Orthodox</td>\n",
       "      <td>Orthodox</td>\n",
       "      <td>Orthodox_Orthodox</td>\n",
       "    </tr>\n",
       "    <tr>\n",
       "      <th>2300</th>\n",
       "      <td>Orthodox</td>\n",
       "      <td>Orthodox</td>\n",
       "      <td>Orthodox_Orthodox</td>\n",
       "    </tr>\n",
       "    <tr>\n",
       "      <th>3496</th>\n",
       "      <td>Southpaw</td>\n",
       "      <td>Southpaw</td>\n",
       "      <td>Southpaw_Southpaw</td>\n",
       "    </tr>\n",
       "  </tbody>\n",
       "</table>\n",
       "</div>"
      ],
      "text/plain": [
       "     STANCE_Red STANCE_Blue        STANCE_diff\n",
       "5953   Orthodox    Orthodox  Orthodox_Orthodox\n",
       "7227   Southpaw    Orthodox  Southpaw_Orthodox\n",
       "5959   Orthodox    Orthodox  Orthodox_Orthodox\n",
       "2300   Orthodox    Orthodox  Orthodox_Orthodox\n",
       "3496   Southpaw    Southpaw  Southpaw_Southpaw"
      ]
     },
     "execution_count": 21,
     "metadata": {},
     "output_type": "execute_result"
    }
   ],
   "source": [
    "df['STANCE_diff'] = df['STANCE_Red'] + '_' + df['STANCE_Blue']\n",
    "\n",
    "# Example\n",
    "df[['STANCE_Red', 'STANCE_Blue', 'STANCE_diff']].sample(5)"
   ]
  },
  {
   "cell_type": "markdown",
   "metadata": {},
   "source": [
    "## Prior fights\n",
    "\n",
    "Another clear set of features we can engineer from this data is each fighter's record **prior to** the fight. This feature will be dynamic, since each fighter's record will change for each fight.\n",
    "\n",
    "To do this, we will need to do a separate analysis of the `df_fight_all` dataset created above, since this contains both fighter names, the outcome and the date. That's all we'll need."
   ]
  },
  {
   "cell_type": "code",
   "execution_count": 22,
   "metadata": {},
   "outputs": [],
   "source": [
    "# Create melted table because we need one row per bout per fighter.\n",
    "# Current table is one row per bout\n",
    "\n",
    "df_prior_fights = df_fight_all.melt(\n",
    "    id_vars=['EVENT', 'BOUT', 'URL', 'Red_Victory', 'EVENT_DATE'],\n",
    "    value_vars=['Red', 'Blue'],\n",
    "    var_name='Corner',\n",
    "    value_name='Fighter',\n",
    ")\n"
   ]
  },
  {
   "cell_type": "code",
   "execution_count": 23,
   "metadata": {},
   "outputs": [
    {
     "data": {
      "text/plain": [
       "Corner  Red_Victory  Victory\n",
       "Blue    1.0          0.0        5008\n",
       "Red     1.0          1.0        5008\n",
       "Blue    0.0          1.0        2702\n",
       "Red     0.0          0.0        2702\n",
       "Name: count, dtype: int64"
      ]
     },
     "execution_count": 23,
     "metadata": {},
     "output_type": "execute_result"
    }
   ],
   "source": [
    "# Was fighter in melted row victorious?\n",
    "\n",
    "def was_victorious(row):\n",
    "    if ((row['Corner'] == 'Red') & (row['Red_Victory'] == 1)):\n",
    "        result = 1\n",
    "    elif ((row['Corner'] == 'Red') & (row['Red_Victory'] == 0)):\n",
    "        result = 0\n",
    "    elif ((row['Corner'] == 'Blue') & (row['Red_Victory'] == 1)):\n",
    "        result = 0\n",
    "    elif ((row['Corner'] == 'Blue') & (row['Red_Victory'] == 0)):\n",
    "        result = 1\n",
    "    else:\n",
    "        result = np.nan\n",
    "\n",
    "    return result\n",
    "\n",
    "# Apply func to calc the `Victory` column\n",
    "df_prior_fights['Victory'] = df_prior_fights.apply(lambda row: was_victorious(row), axis=1)\n",
    "\n",
    "# Confirm\n",
    "df_prior_fights[['Corner', 'Red_Victory', 'Victory']].value_counts()\n"
   ]
  },
  {
   "cell_type": "code",
   "execution_count": 24,
   "metadata": {},
   "outputs": [
    {
     "data": {
      "text/html": [
       "<div>\n",
       "<style scoped>\n",
       "    .dataframe tbody tr th:only-of-type {\n",
       "        vertical-align: middle;\n",
       "    }\n",
       "\n",
       "    .dataframe tbody tr th {\n",
       "        vertical-align: top;\n",
       "    }\n",
       "\n",
       "    .dataframe thead th {\n",
       "        text-align: right;\n",
       "    }\n",
       "</style>\n",
       "<table border=\"1\" class=\"dataframe\">\n",
       "  <thead>\n",
       "    <tr style=\"text-align: right;\">\n",
       "      <th></th>\n",
       "      <th>EVENT</th>\n",
       "      <th>EVENT_DATE</th>\n",
       "      <th>Fighter</th>\n",
       "      <th>Victory</th>\n",
       "    </tr>\n",
       "  </thead>\n",
       "  <tbody>\n",
       "    <tr>\n",
       "      <th>0</th>\n",
       "      <td>UFC Fight Night: Royval vs. Taira</td>\n",
       "      <td>2024-10-12</td>\n",
       "      <td>Brandon Royval</td>\n",
       "      <td>1.0</td>\n",
       "    </tr>\n",
       "    <tr>\n",
       "      <th>1</th>\n",
       "      <td>UFC Fight Night: Royval vs. Taira</td>\n",
       "      <td>2024-10-12</td>\n",
       "      <td>Brad Tavares</td>\n",
       "      <td>0.0</td>\n",
       "    </tr>\n",
       "    <tr>\n",
       "      <th>2</th>\n",
       "      <td>UFC Fight Night: Royval vs. Taira</td>\n",
       "      <td>2024-10-12</td>\n",
       "      <td>Chidi Njokuani</td>\n",
       "      <td>1.0</td>\n",
       "    </tr>\n",
       "    <tr>\n",
       "      <th>3</th>\n",
       "      <td>UFC Fight Night: Royval vs. Taira</td>\n",
       "      <td>2024-10-12</td>\n",
       "      <td>Grant Dawson</td>\n",
       "      <td>1.0</td>\n",
       "    </tr>\n",
       "    <tr>\n",
       "      <th>4</th>\n",
       "      <td>UFC Fight Night: Royval vs. Taira</td>\n",
       "      <td>2024-10-12</td>\n",
       "      <td>Daniel Rodriguez</td>\n",
       "      <td>1.0</td>\n",
       "    </tr>\n",
       "  </tbody>\n",
       "</table>\n",
       "</div>"
      ],
      "text/plain": [
       "                                EVENT EVENT_DATE           Fighter  Victory\n",
       "0  UFC Fight Night: Royval vs. Taira  2024-10-12    Brandon Royval      1.0\n",
       "1  UFC Fight Night: Royval vs. Taira  2024-10-12      Brad Tavares      0.0\n",
       "2  UFC Fight Night: Royval vs. Taira  2024-10-12    Chidi Njokuani      1.0\n",
       "3  UFC Fight Night: Royval vs. Taira  2024-10-12      Grant Dawson      1.0\n",
       "4  UFC Fight Night: Royval vs. Taira  2024-10-12  Daniel Rodriguez      1.0"
      ]
     },
     "execution_count": 24,
     "metadata": {},
     "output_type": "execute_result"
    }
   ],
   "source": [
    "# Simplify prior fights df to show only necessary columns\n",
    "df_prior_fights.drop(columns=['BOUT', 'URL', 'Red_Victory', 'Corner'], inplace=True)\n",
    "\n",
    "df_prior_fights.head()"
   ]
  },
  {
   "cell_type": "markdown",
   "metadata": {},
   "source": [
    "### Add prior wins, losses and total fights into `df`"
   ]
  },
  {
   "cell_type": "code",
   "execution_count": 25,
   "metadata": {},
   "outputs": [
    {
     "data": {
      "text/plain": [
       "(np.int64(9), np.float64(6.0), np.float64(3.0), np.float64(0.6666666666666666))"
      ]
     },
     "execution_count": 25,
     "metadata": {},
     "output_type": "execute_result"
    }
   ],
   "source": [
    "def get_record(fighter: str, date: 'datetime') -> tuple:\n",
    "    \"\"\"Accept fighter name and date, return record prior to that date\"\"\"\n",
    "\n",
    "    df_prior_fights_sub = df_prior_fights[\n",
    "        (df_prior_fights['Fighter'] == fighter) &\n",
    "        (df_prior_fights['EVENT_DATE'] < date)\n",
    "    ]\n",
    "\n",
    "    fights = df_prior_fights_sub['Victory'].count()\n",
    "    victories = df_prior_fights_sub['Victory'].sum()\n",
    "    losses = fights - victories\n",
    "    f_win = victories / fights if fights != 0 else np.nan\n",
    "\n",
    "    return fights, victories, losses, f_win\n",
    "\n",
    "get_record('Brandon Royval', pd.to_datetime(['2024-10-12'])[0])"
   ]
  },
  {
   "cell_type": "code",
   "execution_count": 26,
   "metadata": {},
   "outputs": [],
   "source": [
    "# df_test = df.sample(3)\n",
    "\n",
    "for i, row in df.iterrows():\n",
    "    event_date = row['EVENT_DATE']\n",
    "    fighter_red = row['FIGHTER_Red']\n",
    "    fighter_blue = row['FIGHTER_Blue']\n",
    "\n",
    "    df.loc[i, ['Red_prior_fights', 'Red_prior_victories', 'Red_prior_losses', 'Red_prior_f_win']] = get_record(fighter_red, event_date)\n",
    "    df.loc[i, ['Blue_prior_fights', 'Blue_prior_victories', 'Blue_prior_losses', 'Blue_prior_f_win']] = get_record(fighter_blue, event_date)"
   ]
  },
  {
   "cell_type": "code",
   "execution_count": 27,
   "metadata": {},
   "outputs": [],
   "source": [
    "df.to_clipboard()"
   ]
  },
  {
   "cell_type": "markdown",
   "metadata": {},
   "source": [
    "# Save ML dataset"
   ]
  },
  {
   "cell_type": "code",
   "execution_count": 28,
   "metadata": {},
   "outputs": [],
   "source": [
    "df.to_csv('ufc_ml_dataset.csv')"
   ]
  },
  {
   "cell_type": "markdown",
   "metadata": {},
   "source": [
    "# Missing data (migrate to EDA section)"
   ]
  },
  {
   "cell_type": "code",
   "execution_count": 28,
   "metadata": {},
   "outputs": [
    {
     "data": {
      "text/plain": [
       "np.float64(0.16674484052532834)"
      ]
     },
     "execution_count": 28,
     "metadata": {},
     "output_type": "execute_result"
    }
   ],
   "source": [
    "df_fighter_tott['HEIGHT'].isna().value_counts(normalize=True)[True]"
   ]
  },
  {
   "cell_type": "code",
   "execution_count": 29,
   "metadata": {},
   "outputs": [
    {
     "data": {
      "text/html": [
       "<div>\n",
       "<style scoped>\n",
       "    .dataframe tbody tr th:only-of-type {\n",
       "        vertical-align: middle;\n",
       "    }\n",
       "\n",
       "    .dataframe tbody tr th {\n",
       "        vertical-align: top;\n",
       "    }\n",
       "\n",
       "    .dataframe thead th {\n",
       "        text-align: right;\n",
       "    }\n",
       "</style>\n",
       "<table border=\"1\" class=\"dataframe\">\n",
       "  <thead>\n",
       "    <tr style=\"text-align: right;\">\n",
       "      <th></th>\n",
       "      <th>False</th>\n",
       "      <th>True</th>\n",
       "    </tr>\n",
       "  </thead>\n",
       "  <tbody>\n",
       "    <tr>\n",
       "      <th>FIGHTER</th>\n",
       "      <td>1.000000</td>\n",
       "      <td>NaN</td>\n",
       "    </tr>\n",
       "    <tr>\n",
       "      <th>HEIGHT</th>\n",
       "      <td>0.833255</td>\n",
       "      <td>0.166745</td>\n",
       "    </tr>\n",
       "    <tr>\n",
       "      <th>WEIGHT</th>\n",
       "      <td>0.976548</td>\n",
       "      <td>0.023452</td>\n",
       "    </tr>\n",
       "    <tr>\n",
       "      <th>REACH</th>\n",
       "      <td>0.431520</td>\n",
       "      <td>0.568480</td>\n",
       "    </tr>\n",
       "    <tr>\n",
       "      <th>STANCE</th>\n",
       "      <td>0.689962</td>\n",
       "      <td>0.310038</td>\n",
       "    </tr>\n",
       "    <tr>\n",
       "      <th>DOB</th>\n",
       "      <td>0.797842</td>\n",
       "      <td>0.202158</td>\n",
       "    </tr>\n",
       "    <tr>\n",
       "      <th>URL</th>\n",
       "      <td>1.000000</td>\n",
       "      <td>NaN</td>\n",
       "    </tr>\n",
       "    <tr>\n",
       "      <th>HEIGHT_in</th>\n",
       "      <td>0.833255</td>\n",
       "      <td>0.166745</td>\n",
       "    </tr>\n",
       "    <tr>\n",
       "      <th>WEIGHT_lbs</th>\n",
       "      <td>0.976548</td>\n",
       "      <td>0.023452</td>\n",
       "    </tr>\n",
       "    <tr>\n",
       "      <th>REACH_in</th>\n",
       "      <td>0.431520</td>\n",
       "      <td>0.568480</td>\n",
       "    </tr>\n",
       "  </tbody>\n",
       "</table>\n",
       "</div>"
      ],
      "text/plain": [
       "               False     True \n",
       "FIGHTER     1.000000       NaN\n",
       "HEIGHT      0.833255  0.166745\n",
       "WEIGHT      0.976548  0.023452\n",
       "REACH       0.431520  0.568480\n",
       "STANCE      0.689962  0.310038\n",
       "DOB         0.797842  0.202158\n",
       "URL         1.000000       NaN\n",
       "HEIGHT_in   0.833255  0.166745\n",
       "WEIGHT_lbs  0.976548  0.023452\n",
       "REACH_in    0.431520  0.568480"
      ]
     },
     "execution_count": 29,
     "metadata": {},
     "output_type": "execute_result"
    }
   ],
   "source": [
    "# In addition to the 1.3% of fights with one fighter missing, there were further instances of\n",
    "# missing data for fighters \n",
    "\n",
    "missing_dict = {col: df_fighter_tott[col].isna().value_counts(normalize=True) for col in df_fighter_tott.columns}\n",
    "missing_df = pd.DataFrame.from_dict(missing_dict).T\n",
    "missing_df"
   ]
  }
 ],
 "metadata": {
  "kernelspec": {
   "display_name": "Python 3",
   "language": "python",
   "name": "python3"
  },
  "language_info": {
   "codemirror_mode": {
    "name": "ipython",
    "version": 3
   },
   "file_extension": ".py",
   "mimetype": "text/x-python",
   "name": "python",
   "nbconvert_exporter": "python",
   "pygments_lexer": "ipython3",
   "version": "3.13.0"
  }
 },
 "nbformat": 4,
 "nbformat_minor": 2
}
